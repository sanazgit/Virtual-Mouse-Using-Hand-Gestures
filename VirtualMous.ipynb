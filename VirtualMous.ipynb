{
  "cells": [
    {
      "cell_type": "code",
      "execution_count": null,
      "id": "2ffbb166-a3dc-4ac8-8aca-9d3f0374ba26",
      "metadata": {
        "id": "2ffbb166-a3dc-4ac8-8aca-9d3f0374ba26"
      },
      "outputs": [],
      "source": [
        "from model import CNNModel\n",
        "import cv2\n",
        "import torch\n",
        "import numpy as np\n",
        "import pandas as pd\n",
        "import pyautogui\n",
        "import mediapipe as mp"
      ]
    },
    {
      "cell_type": "code",
      "source": [
        "device = 'cuda' if torch.cuda.is_available() else 'cpu'"
      ],
      "metadata": {
        "id": "EJUCl5wd0mt_"
      },
      "id": "EJUCl5wd0mt_",
      "execution_count": null,
      "outputs": []
    },
    {
      "cell_type": "code",
      "execution_count": null,
      "id": "ec3f2a1b-634f-438c-8959-338af57e78d7",
      "metadata": {
        "id": "ec3f2a1b-634f-438c-8959-338af57e78d7"
      },
      "outputs": [],
      "source": [
        "model = CNNModel(1, 4).to(device)\n",
        "model.load_state_dict(torch.load('slm_4class.pth', map_location=torch.device(device)))\n",
        "\n",
        "model.eval()\n",
        "\n",
        "\n",
        "mpHands = mp.solutions.hands\n",
        "hands = mpHands.Hands(max_num_hands=1, min_detection_confidence=0.7)\n",
        "mpDraw = mp.solutions.drawing_utils\n",
        "\n",
        "classNames = ['Right Click', 'Move Down', 'Move Left', 'Double Click']"
      ]
    },
    {
      "cell_type": "code",
      "execution_count": null,
      "id": "46991ef0-bab9-4cac-a2f4-d5d72d28facb",
      "metadata": {
        "id": "46991ef0-bab9-4cac-a2f4-d5d72d28facb"
      },
      "outputs": [],
      "source": [
        "cap = cv2.VideoCapture(0)\n",
        "\n",
        "def preprocess_and_predict(hand_img, model):\n",
        "\n",
        "    gray = cv2.cvtColor(hand_img, cv2.COLOR_BGR2GRAY)\n",
        "\n",
        "    resized = cv2.resize(gray, (28, 28), interpolation=cv2.INTER_AREA)\n",
        "\n",
        "    flat_image = resized.flatten()\n",
        "\n",
        "    data_frame = pd.DataFrame([flat_image])\n",
        "\n",
        "    img_tensor = torch.tensor(data_frame.values, dtype=torch.float32).reshape((-1, 1, 28, 28)) / 255.0\n",
        "    img_tensor = img_tensor.to(device)\n",
        "\n",
        "\n",
        "    with torch.no_grad():\n",
        "        outputs = model(img_tensor)\n",
        "        _, predicted = torch.max(outputs.data, 1)\n",
        "        return predicted, classNames[predicted.item()]\n",
        "\n",
        "\n",
        "while cap.isOpened():\n",
        "    success, image = cap.read()\n",
        "    if not success:\n",
        "        print(\"Ignoring empty camera frame.\")\n",
        "        continue\n",
        "\n",
        "\n",
        "    h, w, _ = image.shape\n",
        "    image = cv2.cvtColor(cv2.flip(image, 1), cv2.COLOR_BGR2RGB)\n",
        "    results = hands.process(image)\n",
        "\n",
        "    image = cv2.cvtColor(image, cv2.COLOR_RGB2BGR)\n",
        "\n",
        "    if results.multi_hand_landmarks:\n",
        "        for handLMs in results.multi_hand_landmarks:\n",
        "            x_max, y_max = 0, 0\n",
        "            x_min, y_min = w, h\n",
        "            for lm in handLMs.landmark:\n",
        "                x, y = int(lm.x * w), int(lm.y * h)\n",
        "                if x > x_max:\n",
        "                    x_max = x\n",
        "                if x < x_min:\n",
        "                    x_min = x\n",
        "                if y > y_max:\n",
        "                    y_max = y\n",
        "                if y < y_min:\n",
        "                    y_min = y\n",
        "\n",
        "\n",
        "            y_min = max(y_min - 20, 0)\n",
        "            y_max = min(y_max + 20, h)\n",
        "            x_min = max(x_min - 20, 0)\n",
        "            x_max = min(x_max + 20, w)\n",
        "\n",
        "            # Crop the hand region from the image\n",
        "            hand_img = image[y_min:y_max, x_min:x_max]\n",
        "\n",
        "            if hand_img.size > 0:\n",
        "                predicted, gesture_name = preprocess_and_predict(hand_img, model)\n",
        "\n",
        "\n",
        "                cv2.putText(image, gesture_name, (50, 50), cv2.FONT_HERSHEY_SIMPLEX, 1, (0, 255, 0), 2, cv2.LINE_AA)\n",
        "\n",
        "                # Map the model's output to mouse actions\n",
        "                if predicted.item() == 0:  # Right Click\n",
        "                    pyautogui.click(button='right')\n",
        "                elif predicted.item() == 1:  # Down\n",
        "                    pyautogui.move(0, 10)\n",
        "                elif predicted.item() == 2:  # Left\n",
        "                    pyautogui.move(-10, 0)\n",
        "                elif predicted.item() == 3:  # Double Click\n",
        "                    pyautogui.click(clicks=2)\n",
        "\n",
        "\n",
        "            cv2.rectangle(image, (x_min, y_min), (x_max, y_max), (0, 255, 0), 2)\n",
        "\n",
        "\n",
        "    cv2.imshow('MediaPipe Hands with Gesture Recognition', image)\n",
        "    if cv2.waitKey(5) & 0xFF == 27:  # ESC key to exit\n",
        "        break\n",
        "\n",
        "cap.release()\n",
        "cv2.destroyAllWindows()"
      ]
    },
    {
      "cell_type": "code",
      "execution_count": null,
      "id": "90364d52-76dc-4257-bacc-3233b1b8e5ff",
      "metadata": {
        "id": "90364d52-76dc-4257-bacc-3233b1b8e5ff"
      },
      "outputs": [],
      "source": []
    }
  ],
  "metadata": {
    "kernelspec": {
      "display_name": "Python 3 (ipykernel)",
      "language": "python",
      "name": "python3"
    },
    "language_info": {
      "codemirror_mode": {
        "name": "ipython",
        "version": 3
      },
      "file_extension": ".py",
      "mimetype": "text/x-python",
      "name": "python",
      "nbconvert_exporter": "python",
      "pygments_lexer": "ipython3",
      "version": "3.11.8"
    },
    "colab": {
      "provenance": []
    }
  },
  "nbformat": 4,
  "nbformat_minor": 5
}